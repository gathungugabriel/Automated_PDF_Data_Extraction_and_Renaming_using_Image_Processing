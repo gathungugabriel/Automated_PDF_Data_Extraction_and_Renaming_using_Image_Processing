{
  "nbformat": 4,
  "nbformat_minor": 0,
  "metadata": {
    "colab": {
      "provenance": []
    },
    "kernelspec": {
      "name": "python3",
      "display_name": "Python 3"
    },
    "language_info": {
      "name": "python"
    }
  },
  "cells": [
    {
      "cell_type": "markdown",
      "source": [
        "Uncoment and run to install the required dependencies"
      ],
      "metadata": {
        "id": "O3gnEYk5IaOt"
      }
    },
    {
      "cell_type": "code",
      "execution_count": null,
      "metadata": {
        "id": "nM-HbI_ZH81z"
      },
      "outputs": [],
      "source": [
        "# !apt-get install tesseract-ocr\n",
        "# !pip install pdf2image\n",
        "# !pip install pytesseract\n",
        "# !apt-get install -y poppler-utils"
      ]
    },
    {
      "cell_type": "markdown",
      "source": [
        "# Import necessary libraries"
      ],
      "metadata": {
        "id": "H4GNAyuxJU9I"
      }
    },
    {
      "cell_type": "code",
      "source": [
        "import os\n",
        "from pdf2image import convert_from_path\n",
        "from pytesseract import image_to_string\n",
        "from PIL import Image, ImageEnhance, ImageFilter\n",
        "import re\n"
      ],
      "metadata": {
        "id": "V33iQmvaH_Ne"
      },
      "execution_count": null,
      "outputs": []
    },
    {
      "cell_type": "markdown",
      "source": [
        "# Function to enhance an image with contrast and sharpening"
      ],
      "metadata": {
        "id": "6y9-vd_SJzbr"
      }
    },
    {
      "cell_type": "code",
      "source": [
        "def enhance_image(image, contrast_factor):\n",
        "    # Enhance contrast\n",
        "    contrast_enhancer = ImageEnhance.Contrast(image)\n",
        "    enhanced_image = contrast_enhancer.enhance(contrast_factor)\n",
        "\n",
        "    # Sharpen the image\n",
        "    sharpened_image = enhanced_image.filter(ImageFilter.SHARPEN)\n",
        "\n",
        "    return sharpened_image"
      ],
      "metadata": {
        "id": "0sCQg0d9H_Qf"
      },
      "execution_count": null,
      "outputs": []
    },
    {
      "cell_type": "markdown",
      "source": [
        "# Function to convert a PDF to a list of images"
      ],
      "metadata": {
        "id": "AqvjJx3dJ7ml"
      }
    },
    {
      "cell_type": "code",
      "source": [
        "def convert_pdf_to_img(pdf_file):\n",
        "    return convert_from_path(pdf_file)\n"
      ],
      "metadata": {
        "id": "RyM0jPQfH_g2"
      },
      "execution_count": null,
      "outputs": []
    },
    {
      "cell_type": "markdown",
      "source": [
        "# Function to extract text from an image using Tesseract OCR"
      ],
      "metadata": {
        "id": "O0fO91G8KELl"
      }
    },
    {
      "cell_type": "code",
      "source": [
        "def convert_image_to_text(image):\n",
        "    text = image_to_string(image)\n",
        "    return text"
      ],
      "metadata": {
        "id": "cDKXDDiHH_jz"
      },
      "execution_count": null,
      "outputs": []
    },
    {
      "cell_type": "markdown",
      "source": [
        "# Function to extract parcel number from text using regular expressions"
      ],
      "metadata": {
        "id": "JYUXHHqOKStl"
      }
    },
    {
      "cell_type": "code",
      "source": [
        "\n",
        "def extract_parcel_number(text):\n",
        "    # Add your parcel number extraction logic here\n",
        "    # This is just a placeholder example, you should replace it with your actual logic\n",
        "    parcel_number = re.search(r'PARCEL NUMBER\\s*(\\d+)', text)\n",
        "    if parcel_number:\n",
        "        return parcel_number.group(1)\n",
        "    else:\n",
        "        return None"
      ],
      "metadata": {
        "id": "F1Jtb4hDKUTt"
      },
      "execution_count": null,
      "outputs": []
    },
    {
      "cell_type": "markdown",
      "source": [
        "# Function to process a PDF, enhance images, and rename the file"
      ],
      "metadata": {
        "id": "hAHLCtwJKb3X"
      }
    },
    {
      "cell_type": "code",
      "source": [
        "def process_pdf_and_rename(pdf_file):\n",
        "    contrast_factor = 1.2  # Initial contrast enhancement factor\n",
        "    parcel_number = None\n",
        "    max_contrast_factor = 2.0  # Maximum contrast enhancement factor to try\n",
        "\n",
        "    while contrast_factor <= max_contrast_factor:\n",
        "        images = convert_pdf_to_img(pdf_file)\n",
        "        final_text = ''\n",
        "\n",
        "        for pg, img in enumerate(images):\n",
        "            enhanced_img = enhance_image(img, contrast_factor)  # Apply enhancement\n",
        "            text = convert_image_to_text(enhanced_img)\n",
        "            final_text += text\n",
        "\n",
        "            parcel_number = extract_parcel_number(text)\n",
        "            if parcel_number:\n",
        "                break  # Exit the loop if parcel number is found\n",
        "\n",
        "        if parcel_number:\n",
        "            break  # Exit the loop if parcel number is found\n",
        "        else:\n",
        "            contrast_factor += 0.3  # Increase contrast factor and try again\n",
        "\n",
        "    return final_text, parcel_number\n"
      ],
      "metadata": {
        "id": "uXe2lCvVKVNU"
      },
      "execution_count": null,
      "outputs": []
    },
    {
      "cell_type": "markdown",
      "source": [
        "# Function to rename a PDF file"
      ],
      "metadata": {
        "id": "2puuKe3aKkkH"
      }
    },
    {
      "cell_type": "code",
      "source": [
        "\n",
        "def rename_pdf_file(old_path, new_name):\n",
        "    folder_path = os.path.dirname(old_path)\n",
        "    new_path = os.path.join(folder_path, f'LOC 4_GAKARARA_{new_name}.pdf')\n",
        "    os.rename(old_path, new_path)\n"
      ],
      "metadata": {
        "id": "_rhtSJU5KU39"
      },
      "execution_count": null,
      "outputs": []
    },
    {
      "cell_type": "markdown",
      "source": [
        "# Specify the folder path containing the PDF files"
      ],
      "metadata": {
        "id": "_X-r_okIKtC2"
      }
    },
    {
      "cell_type": "code",
      "source": [
        "folder_path = r'/content/drive/MyDrive/Data Science/TRAY 1_2381-2398'"
      ],
      "metadata": {
        "id": "NHk5O-J9KU1F"
      },
      "execution_count": null,
      "outputs": []
    },
    {
      "cell_type": "markdown",
      "source": [
        "# Iterate through the PDF files in the specified folder"
      ],
      "metadata": {
        "id": "YEWI0xv8LNQ4"
      }
    },
    {
      "cell_type": "code",
      "source": [
        "\n",
        "# Initialize a dictionary to keep track of renamed files\n",
        "renamed_files = {}\n",
        "\n",
        "# Iterate through the PDF files in the specified folder\n",
        "for filename in os.listdir(folder_path):\n",
        "    if filename.endswith('.pdf'):\n",
        "        file_path = os.path.join(folder_path, filename)\n",
        "        extracted_text, parcel_number = process_pdf_and_rename(file_path)\n",
        "\n",
        "        # Print extracted text for reference\n",
        "        print(\"Extracted Text:\")\n",
        "        print(extracted_text)\n",
        "\n",
        "        # Check if a parcel number was extracted\n",
        "        if parcel_number:\n",
        "            print(\"Parcel Number:\", parcel_number)\n",
        "            new_name = f'{parcel_number}'  # Use the parcel number as the new file name\n",
        "            rename_pdf_file(file_path, new_name)\n",
        "            renamed_files[filename] = new_name  # Record the renamed file\n",
        "            print(f\"Renamed PDF to: {new_name}.pdf\")\n",
        "        else:\n",
        "            # If parcel number not found, add a unique counter to the filename\n",
        "            counter = 1\n",
        "            new_name = f'1_pn_{counter}'\n",
        "            while new_name in renamed_files.values():\n",
        "                counter += 1\n",
        "                new_name = f'1_pn_{counter}'\n",
        "\n",
        "            rename_pdf_file(file_path, new_name)\n",
        "            renamed_files[filename] = new_name  # Record the renamed file\n",
        "            print(f\"Renamed PDF to: {new_name}.pdf (Parcel Number not found)\")\n"
      ],
      "metadata": {
        "id": "DcTVJEcWIACN"
      },
      "execution_count": null,
      "outputs": []
    }
  ]
}